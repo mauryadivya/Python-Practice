{
  "nbformat": 4,
  "nbformat_minor": 0,
  "metadata": {
    "colab": {
      "provenance": []
    },
    "kernelspec": {
      "name": "python3",
      "display_name": "Python 3"
    },
    "language_info": {
      "name": "python"
    }
  },
  "cells": [
    {
      "cell_type": "code",
      "execution_count": null,
      "metadata": {
        "colab": {
          "base_uri": "https://localhost:8080/"
        },
        "id": "YS7zs7vLA1jW",
        "outputId": "30efcaf2-7345-48fb-80ec-e20c1dbe9b5d"
      },
      "outputs": [
        {
          "output_type": "stream",
          "name": "stdout",
          "text": [
            "Enter the radius of the Circle: 12\n",
            "Area of the Circle is: 452.16\n"
          ]
        }
      ],
      "source": [
        "# 1.\tWrite a Python program which accept the radius of a circle from the user and compute the area.\n",
        "\n",
        "radius=int(input(\"Enter the radius of the Circle: \"))\n",
        "area= 3.14*(radius**2)\n",
        "print(f\"Area of the Circle is: {area}\")\n"
      ]
    },
    {
      "cell_type": "code",
      "source": [
        "# 2.\tWrite a Python program to calculate number of days between two dates.\n",
        "\n",
        "from datetime import date\n",
        "\n",
        "date1 = date(2022, 11, 1)\n",
        "date2 = date(2022, 11, 30)\n",
        "d = date2 - date1\n",
        "print(d.days)\n"
      ],
      "metadata": {
        "id": "mxrDryoPC2F4",
        "colab": {
          "base_uri": "https://localhost:8080/"
        },
        "outputId": "5562aafc-9550-4f6f-a3f3-239a106e2d5a"
      },
      "execution_count": null,
      "outputs": [
        {
          "output_type": "stream",
          "name": "stdout",
          "text": [
            "29\n"
          ]
        }
      ]
    },
    {
      "cell_type": "code",
      "source": [
        "# 3.\tWrite a Python program to test whether a passed letter is a vowel or not.\n",
        "\n",
        "letter=input(\"Enter the letter: \")\n",
        "letter1=letter.lower()\n",
        "if letter1 in ('a','e','i','o','u'):\n",
        "  print(f'{letter1}: The letter is vowel.')\n",
        "else:\n",
        "  print(f'{letter1}: The letter is consonant.')\n",
        "    "
      ],
      "metadata": {
        "colab": {
          "base_uri": "https://localhost:8080/"
        },
        "id": "VKJgT-lZDIiD",
        "outputId": "a3149064-f4d3-4ce9-92d8-465501e7f8df"
      },
      "execution_count": null,
      "outputs": [
        {
          "output_type": "stream",
          "name": "stdout",
          "text": [
            "Enter the letter: c\n",
            "c: The letter is consonant.\n"
          ]
        }
      ]
    },
    {
      "cell_type": "code",
      "source": [
        "# 4.\tWrite a program to print every character of a string entered by the user in a new line using a loop.\n",
        "\n",
        "str=input(\"Enter the string: \")\n",
        "for i in range(0,len(str)):\n",
        "  print(str[i])"
      ],
      "metadata": {
        "colab": {
          "base_uri": "https://localhost:8080/"
        },
        "id": "AX4f_FPuE6FM",
        "outputId": "301789f4-59a5-498a-ae33-043a086348f6"
      },
      "execution_count": null,
      "outputs": [
        {
          "output_type": "stream",
          "name": "stdout",
          "text": [
            "Enter the string: divya m\n",
            "d\n",
            "i\n",
            "v\n",
            "y\n",
            "a\n",
            " \n",
            "m\n"
          ]
        }
      ]
    },
    {
      "cell_type": "code",
      "source": [
        "# 5.\tPython program to check whether a number is Prime or not.\n",
        "\n",
        "num=int(input(\"Enter the number: \"))\n",
        "\n",
        "for i in range(2,num+1):\n",
        "  if i==num:\n",
        "    print(f'{num} is prime')\n",
        "    #print(\"i1\",i)\n",
        "    break\n",
        "  elif num%i==0:\n",
        "    #print(\"i2\",i)\n",
        "    print(f'{num} is not prime')\n",
        "    break"
      ],
      "metadata": {
        "colab": {
          "base_uri": "https://localhost:8080/"
        },
        "id": "ErT82Dk0IV4B",
        "outputId": "c703ba49-12ca-4ed8-9e2d-4746cee2dce3"
      },
      "execution_count": 21,
      "outputs": [
        {
          "output_type": "stream",
          "name": "stdout",
          "text": [
            "Enter the number: 211\n",
            "211 is prime\n"
          ]
        }
      ]
    },
    {
      "cell_type": "code",
      "source": [
        "# 6.\tPython program to Count Even and Odd numbers in a string.\n",
        "\n",
        "stri = 'numpyarray' \n",
        "even=[]\n",
        "odd=[]\n",
        "for i in range(0,len(stri)):\n",
        "  if i%2==0:\n",
        "    even.append(stri[i])\n",
        "      # print(stri.count(stri[i]))\n",
        "  else:\n",
        "    odd.append(stri[i])\n",
        "print(even)\n",
        "print(odd)\n",
        "even_count=0\n",
        "odd_count=0\n",
        "\n",
        "for i in range(len(even)):\n",
        "  even_count=even_count+1\n",
        "print(f\"even count: {even_count}\")\n",
        "\n",
        "for i in range(len(odd)):\n",
        "  odd_count=odd_count+1\n",
        "print(f\"odd count: {odd_count}\")\n",
        "  "
      ],
      "metadata": {
        "colab": {
          "base_uri": "https://localhost:8080/"
        },
        "id": "tTjAyhvUJVwT",
        "outputId": "c8688cf6-2cc4-46ed-abd9-21a511de33ba"
      },
      "execution_count": null,
      "outputs": [
        {
          "output_type": "stream",
          "name": "stdout",
          "text": [
            "['n', 'm', 'y', 'r', 'a']\n",
            "['u', 'p', 'a', 'r', 'y']\n",
            "even count: 5\n",
            "odd count: 5\n"
          ]
        }
      ]
    },
    {
      "cell_type": "code",
      "source": [
        "# 7.\tWrite a Python program to find the second most repeated word in a given string.\n",
        "\n",
        "string='abcabbaa'\n",
        "c2=[]\n",
        "for i in range(0,len(string)):\n",
        "  c1=string.count(string[i])\n",
        "  alp=string[i]\n",
        "  print(f'{alp}:{c1}')\n"
      ],
      "metadata": {
        "id": "8Y5F_r5Ot6Yg",
        "colab": {
          "base_uri": "https://localhost:8080/"
        },
        "outputId": "05e6074e-d871-4a19-a544-8da5caa8e72a"
      },
      "execution_count": null,
      "outputs": [
        {
          "output_type": "stream",
          "name": "stdout",
          "text": [
            "a:4\n",
            "b:3\n",
            "c:1\n",
            "a:4\n",
            "b:3\n",
            "b:3\n",
            "a:4\n",
            "a:4\n"
          ]
        }
      ]
    },
    {
      "cell_type": "code",
      "source": [
        "# 8.\tPython program to interchange first and last elements in a list.\n",
        "\n",
        "string='divyamaurya'\n",
        "first=string[0:1]\n",
        "print(first)\n",
        "last=string[-1:]\n",
        "print(last)\n",
        "mid=string[1:-1]\n",
        "print(mid)\n",
        "\n",
        "final=last+mid+first\n",
        "print(final)\n"
      ],
      "metadata": {
        "colab": {
          "base_uri": "https://localhost:8080/"
        },
        "id": "DCBu1Vfpu1ce",
        "outputId": "236004d8-05cc-49ad-f6a1-4b4d19e4936c"
      },
      "execution_count": null,
      "outputs": [
        {
          "output_type": "stream",
          "name": "stdout",
          "text": [
            "d\n",
            "a\n",
            "ivyamaury\n",
            "aivyamauryd\n"
          ]
        }
      ]
    },
    {
      "cell_type": "code",
      "source": [
        "# 9. How to sort a list in ascending and descending order without using the sort function?\n",
        "\n",
        "#   considering all the elements as integers\n",
        "\n",
        "list_in = [10,20,5,8,33,120,85,65]\n",
        "list_f = []\n",
        "\n",
        "while list_in:\n",
        "    mini = list_in[0] \n",
        "    for i in list_in: \n",
        "        if i < mini:\n",
        "            mini = i\n",
        "    list_f.append(mini)\n",
        "    list_in.remove(mini)    \n",
        "print (list_f)"
      ],
      "metadata": {
        "id": "UMiRMNoKvZ2d",
        "colab": {
          "base_uri": "https://localhost:8080/"
        },
        "outputId": "d668db16-2c5d-4cd1-8bf7-ec7a6b1e3178"
      },
      "execution_count": null,
      "outputs": [
        {
          "output_type": "stream",
          "name": "stdout",
          "text": [
            "[5, 8, 10, 20, 33, 65, 85, 120]\n"
          ]
        }
      ]
    },
    {
      "cell_type": "code",
      "source": [
        "# 10.\tPython program to sort Python Dictionaries by Values.\n",
        "\n",
        "mydict={'Harry':2,\n",
        "        'Sejal':10,\n",
        "        'Kartik':5}\n",
        "print(type(mydict))\n",
        "\n",
        "{key: value for key, value in sorted(mydict.items(), key=lambda item: item[1])}"
      ],
      "metadata": {
        "id": "yAL59UVpyDIz",
        "colab": {
          "base_uri": "https://localhost:8080/"
        },
        "outputId": "f54ce39c-a629-4dad-92dc-65ef1f1d8946"
      },
      "execution_count": null,
      "outputs": [
        {
          "output_type": "stream",
          "name": "stdout",
          "text": [
            "<class 'dict'>\n"
          ]
        },
        {
          "output_type": "execute_result",
          "data": {
            "text/plain": [
              "{'Harry': 2, 'Kartik': 5, 'Sejal': 10}"
            ]
          },
          "metadata": {},
          "execution_count": 10
        }
      ]
    },
    {
      "cell_type": "code",
      "source": [
        "# 11 Create a list of tuples from the given list having a number and its cube in each tuple.\n",
        "\n",
        "num=[2,4,6]\n",
        "li=[]\n",
        "\n",
        "for i in range(0,len(num)):\n",
        "  a=(num[i],num[i]*num[i]*num[i])\n",
        "  # print(a)\n",
        "  li.append(a)\n",
        "print(li)"
      ],
      "metadata": {
        "colab": {
          "base_uri": "https://localhost:8080/"
        },
        "id": "rIzXuDYCFSle",
        "outputId": "6b6ee385-8c50-4532-b00f-6466dd4b86a4"
      },
      "execution_count": 26,
      "outputs": [
        {
          "output_type": "stream",
          "name": "stdout",
          "text": [
            "[(2, 8), (4, 64), (6, 216)]\n"
          ]
        }
      ]
    },
    {
      "cell_type": "code",
      "source": [
        "# 12.\tHow to extract all numbers between a given range from a NumPy array?\n",
        "\n",
        "import numpy as np\n",
        "\n",
        "arr=np.array([12,10,5,15,17,11,21,6,8,19])\n",
        "print(arr)\n",
        "ra=[]\n",
        "for i in range(0,len(arr)):\n",
        "  if arr[i]>10 and arr[i]<20:\n",
        "    ra.append(arr[i])\n",
        "print(ra)\n",
        "\n"
      ],
      "metadata": {
        "id": "4BFS3ZIJx4R0",
        "colab": {
          "base_uri": "https://localhost:8080/"
        },
        "outputId": "002d12ba-f622-455b-81c8-06920b03c86d"
      },
      "execution_count": null,
      "outputs": [
        {
          "output_type": "stream",
          "name": "stdout",
          "text": [
            "[12 10  5 15 17 11 21  6  8 19]\n",
            "[12, 15, 17, 11, 19]\n"
          ]
        }
      ]
    },
    {
      "cell_type": "code",
      "source": [
        "# 13.How to convert 4D array to 2D array?\n",
        "import numpy as np    \n",
        "arr = np.arange(72)\n",
        "arr = np.reshape(a, (4,3,2,3))\n",
        "# print(arr)\n",
        "print(arr.shape)\n",
        "brr=np.reshape(arr,(8,9))\n",
        "print(brr)\n",
        "print(brr.shape)"
      ],
      "metadata": {
        "colab": {
          "base_uri": "https://localhost:8080/"
        },
        "id": "fWcf-WG_lip6",
        "outputId": "2aa8b290-4db0-4f34-b84b-34d3262ebc9e"
      },
      "execution_count": null,
      "outputs": [
        {
          "output_type": "stream",
          "name": "stdout",
          "text": [
            "(4, 3, 2, 3)\n",
            "[[ 0  1  2  3  4  5  6  7  8]\n",
            " [ 9 10 11 12 13 14 15 16 17]\n",
            " [18 19 20 21 22 23 24 25 26]\n",
            " [27 28 29 30 31 32 33 34 35]\n",
            " [36 37 38 39 40 41 42 43 44]\n",
            " [45 46 47 48 49 50 51 52 53]\n",
            " [54 55 56 57 58 59 60 61 62]\n",
            " [63 64 65 66 67 68 69 70 71]]\n",
            "(8, 9)\n"
          ]
        }
      ]
    },
    {
      "cell_type": "code",
      "source": [
        "# 14.\tSuppose there is room with a round table with 100 empty.......................\n",
        "\n",
        "player = [i for i in range(1,101)]\n",
        "while len(player)>2:\n",
        "  #print(player)\n",
        "  #print(len(player))\n",
        "  rem = []\n",
        "  for i in range(0,len(player),2):\n",
        "    rem.append(player[i])\n",
        "  #print(\"rem after append\",rem)\n",
        "  rem = [rem[-1]] + [player[-1]] + rem[0:-1]\n",
        "  #print(\"rem suffled\",rem)\n",
        "  rem = list(dict.fromkeys(rem))\n",
        "  #print(i)\n",
        "  #print(\"final rem\",rem)\n",
        "  player = rem\n",
        "  #print(rem)\n",
        "  #print(player)\n",
        "\n",
        "print(player[0])\n"
      ],
      "metadata": {
        "id": "MvArvQS9yj0M",
        "colab": {
          "base_uri": "https://localhost:8080/"
        },
        "outputId": "5f8efb74-1697-46d6-c576-f3b81b9ef767"
      },
      "execution_count": null,
      "outputs": [
        {
          "output_type": "stream",
          "name": "stdout",
          "text": [
            "73\n"
          ]
        }
      ]
    },
    {
      "cell_type": "code",
      "source": [
        "# 15.\tSearch Pivot index in the Array.\n",
        "\n",
        "nums = [1,7,1]\n",
        "if len(nums)<3:\n",
        "  print(\"i need more data points\")\n",
        "pivt = []\n",
        "for i in range(1,len(nums)-1):\n",
        "  sumL=0\n",
        "  sumR=0\n",
        "  for j in range(0,i):\n",
        "    sumL=sumL+nums[j]\n",
        "  #print(i,sumL)\n",
        "  for j in range(i+1,len(nums)):\n",
        "    sumR=sumR+nums[j]\n",
        "  #print(i,sumR)\n",
        "  if (sumL==sumR):\n",
        "    pivt.append(i)\n",
        "print(\"pivot indexes are : \",pivt)\n"
      ],
      "metadata": {
        "id": "Lzv6I3I6yTYJ",
        "colab": {
          "base_uri": "https://localhost:8080/"
        },
        "outputId": "51a6c90c-185e-4cb8-a64a-5d77eb60aff9"
      },
      "execution_count": null,
      "outputs": [
        {
          "output_type": "stream",
          "name": "stdout",
          "text": [
            "pivot indexes are :  [1]\n"
          ]
        }
      ]
    },
    {
      "cell_type": "code",
      "source": [
        "# 16.\tCheck if a String is an Anagram\n",
        "\n",
        "fir='anagram'\n",
        "bir='aagramn'\n",
        "aa=[]\n",
        "bb=[]\n",
        "for i in range(0,len(fir)):\n",
        "  aa.append(fir[i])\n",
        "  aa.sort()\n",
        "for i in range(0,len(bir)):\n",
        "  bb.append(bir[i])\n",
        "  bb.sort()\n",
        "print(aa)\n",
        "print(bb)\n",
        "\n",
        "if aa==bb:\n",
        "  print(True)\n",
        "else:\n",
        "  print(False)"
      ],
      "metadata": {
        "id": "UgNKZpJAU10V",
        "colab": {
          "base_uri": "https://localhost:8080/"
        },
        "outputId": "6864fbdf-8c9e-4e9d-db65-6a48e0b1f3a9"
      },
      "execution_count": null,
      "outputs": [
        {
          "output_type": "stream",
          "name": "stdout",
          "text": [
            "['a', 'a', 'a', 'g', 'm', 'n', 'r']\n",
            "['a', 'a', 'a', 'g', 'm', 'n', 'r']\n",
            "True\n"
          ]
        }
      ]
    },
    {
      "cell_type": "code",
      "source": [
        "# 17.\tWrite a program in Python to find prime factors of a given integer.\n",
        "\n",
        "num=int(input('Enter the number '))\n",
        "for i in range(1,num+1):\n",
        "  if num%i==0:\n",
        "    pf=0\n",
        "    for j in range(2,i):\n",
        "      if i%j==0:\n",
        "        pf=1\n",
        "        break\n",
        "    if pf==0:\n",
        "      print(i,end=\" \")"
      ],
      "metadata": {
        "id": "IjrPOt6nyZiu",
        "colab": {
          "base_uri": "https://localhost:8080/"
        },
        "outputId": "0ebc31de-36e8-47ac-f0b9-d7d85cb37b17"
      },
      "execution_count": null,
      "outputs": [
        {
          "output_type": "stream",
          "name": "stdout",
          "text": [
            "Enter the number 6\n",
            "1 2 3 "
          ]
        }
      ]
    },
    {
      "cell_type": "code",
      "source": [
        "# 18.\tPython Program to count the occurrence of each character in string.\n",
        "\n",
        "stringg='divyamaurya'\n",
        "for i in range(0,len(stringg)):\n",
        "  ab=stringg.count(stringg[i])\n",
        "  print(f'{stringg[i]}:{ab}')"
      ],
      "metadata": {
        "id": "YwFkRkXpyG6S",
        "colab": {
          "base_uri": "https://localhost:8080/"
        },
        "outputId": "b672c253-7be4-4a2a-b0e1-ac7fd2871854"
      },
      "execution_count": null,
      "outputs": [
        {
          "output_type": "stream",
          "name": "stdout",
          "text": [
            "d:1\n",
            "i:1\n",
            "v:1\n",
            "y:2\n",
            "a:3\n",
            "m:1\n",
            "a:3\n",
            "u:1\n",
            "r:1\n",
            "y:2\n",
            "a:3\n"
          ]
        }
      ]
    }
  ]
}