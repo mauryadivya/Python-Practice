{
  "nbformat": 4,
  "nbformat_minor": 0,
  "metadata": {
    "colab": {
      "provenance": []
    },
    "kernelspec": {
      "name": "python3",
      "display_name": "Python 3"
    },
    "language_info": {
      "name": "python"
    }
  },
  "cells": [
    {
      "cell_type": "code",
      "execution_count": null,
      "metadata": {
        "colab": {
          "base_uri": "https://localhost:8080/"
        },
        "id": "vyjgTvqlfY6W",
        "outputId": "74c3a19e-1520-48fb-d025-d326e5112ef8"
      },
      "outputs": [
        {
          "output_type": "stream",
          "name": "stdout",
          "text": [
            "Enter the number 0\n",
            "enter the opertor /\n",
            "Enter the number 10\n",
            "0/10=0.0\n"
          ]
        }
      ],
      "source": [
        "# Calculator\n",
        "\n",
        "a=int(input('Enter the number '))\n",
        "b=input('enter the opertor ')\n",
        "c=int(input('Enter the number '))\n",
        "\n",
        "if b==\"+\":\n",
        "  print(f'{a}+{c}={a+c}')\n",
        "elif b==\"-\":\n",
        "  print(f'{a}-{c}={a-c}')\n",
        "elif b==\"*\":\n",
        "  print(f'{a}*{c}={a*c}')\n",
        "elif b==\"/\" and c==0:\n",
        "  print(f'{a}/{c}= Cannot divided by 0/Infinity')\n",
        "elif b==\"/\":\n",
        "  print(f'{a}/{c}={a/c}')\n",
        "elif b==\"/\" and a==0:\n",
        "  print(f'{a}/{c}={0}')\n",
        "else:\n",
        "  print('Enter correctly!')"
      ]
    }
  ]
}